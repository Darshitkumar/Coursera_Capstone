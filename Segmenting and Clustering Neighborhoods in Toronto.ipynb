{
    "cells": [
        {
            "cell_type": "markdown",
            "metadata": {},
            "source": "## Lets Start with Importing required Libraries"
        },
        {
            "cell_type": "code",
            "execution_count": 1,
            "metadata": {},
            "outputs": [
                {
                    "name": "stdout",
                    "output_type": "stream",
                    "text": "Requirement already satisfied: geopy in /opt/conda/envs/Python36/lib/python3.6/site-packages (1.18.1)\nRequirement already satisfied: geographiclib<2,>=1.49 in /opt/conda/envs/Python36/lib/python3.6/site-packages (from geopy) (1.49)\nSolving environment: done\n\n## Package Plan ##\n\n  environment location: /opt/conda/envs/Python36\n\n  added / updated specs: \n    - folium=0.5.0\n\n\nThe following packages will be downloaded:\n\n    package                    |            build\n    ---------------------------|-----------------\n    certifi-2020.6.20          |   py36h9f0ad1d_0         151 KB  conda-forge\n    openssl-1.1.1g             |       h516909a_0         2.1 MB  conda-forge\n    branca-0.4.1               |             py_0          26 KB  conda-forge\n    folium-0.5.0               |             py_0          45 KB  conda-forge\n    altair-4.1.0               |             py_1         614 KB  conda-forge\n    python_abi-3.6             |          1_cp36m           4 KB  conda-forge\n    ca-certificates-2020.6.20  |       hecda079_0         145 KB  conda-forge\n    vincent-0.4.4              |             py_1          28 KB  conda-forge\n    ------------------------------------------------------------\n                                           Total:         3.1 MB\n\nThe following NEW packages will be INSTALLED:\n\n    altair:          4.1.0-py_1        conda-forge\n    branca:          0.4.1-py_0        conda-forge\n    folium:          0.5.0-py_0        conda-forge\n    python_abi:      3.6-1_cp36m       conda-forge\n    vincent:         0.4.4-py_1        conda-forge\n\nThe following packages will be UPDATED:\n\n    ca-certificates: 2020.1.1-0                    --> 2020.6.20-hecda079_0     conda-forge\n    certifi:         2020.6.20-py36_0              --> 2020.6.20-py36h9f0ad1d_0 conda-forge\n    openssl:         1.1.1g-h7b6447c_0             --> 1.1.1g-h516909a_0        conda-forge\n\n\nDownloading and Extracting Packages\ncertifi-2020.6.20    | 151 KB    | ##################################### | 100% \nopenssl-1.1.1g       | 2.1 MB    | ##################################### | 100% \nbranca-0.4.1         | 26 KB     | ##################################### | 100% \nfolium-0.5.0         | 45 KB     | ##################################### | 100% \naltair-4.1.0         | 614 KB    | ##################################### | 100% \npython_abi-3.6       | 4 KB      | ##################################### | 100% \nca-certificates-2020 | 145 KB    | ##################################### | 100% \nvincent-0.4.4        | 28 KB     | ##################################### | 100% \nPreparing transaction: done\nVerifying transaction: done\nExecuting transaction: done\nLibraries imported.\n"
                }
            ],
            "source": "import numpy as np\nimport pandas as pd\nimport json\nimport requests\nfrom pandas.io.json import json_normalize\nimport matplotlib.cm as cm\nimport matplotlib.colors as colors\nfrom sklearn.cluster import KMeans\n\n!pip install geopy \nfrom geopy.geocoders import Nominatim\n\n!conda install -c conda-forge folium=0.5.0 --yes\nimport folium\n\nprint('Libraries imported.')"
        },
        {
            "cell_type": "markdown",
            "metadata": {},
            "source": "### Install BeautifulSoup for the retrieval of the required table from the wikipedia link and extract the table."
        },
        {
            "cell_type": "code",
            "execution_count": 2,
            "metadata": {},
            "outputs": [
                {
                    "name": "stdout",
                    "output_type": "stream",
                    "text": "Requirement already satisfied: BeautifulSoup4 in /opt/conda/envs/Python36/lib/python3.6/site-packages (4.7.1)\r\nRequirement already satisfied: soupsieve>=1.2 in /opt/conda/envs/Python36/lib/python3.6/site-packages (from BeautifulSoup4) (1.7.1)\r\n"
                }
            ],
            "source": "!pip install BeautifulSoup4\nfrom bs4 import BeautifulSoup\n\nwebsite_url = requests.get('https://en.wikipedia.org/wiki/List_of_postal_codes_of_Canada:_M').text\nsoup = BeautifulSoup(website_url,'html.parser')\n\nmy_table = soup.find('table',{'class':'wikitable sortable'})\n# print(my_table)\nA=[]\nB=[]\nC=[]\n\nfor row in my_table.findAll('tr'):\n    cells=row.findAll('td')\n    if len(cells)==3:\n        A.append(cells[0].find(text=True))\n        B.append(cells[1].find(text=True))\n        C.append(cells[2].find(text=True))"
        },
        {
            "cell_type": "markdown",
            "metadata": {},
            "source": "#### Conversion of the table into a DataFrame"
        },
        {
            "cell_type": "code",
            "execution_count": 3,
            "metadata": {},
            "outputs": [
                {
                    "data": {
                        "text/html": "<div>\n<style scoped>\n    .dataframe tbody tr th:only-of-type {\n        vertical-align: middle;\n    }\n\n    .dataframe tbody tr th {\n        vertical-align: top;\n    }\n\n    .dataframe thead th {\n        text-align: right;\n    }\n</style>\n<table border=\"1\" class=\"dataframe\">\n  <thead>\n    <tr style=\"text-align: right;\">\n      <th></th>\n      <th>Postal_Code</th>\n      <th>Borough</th>\n      <th>Neighbourhood</th>\n    </tr>\n  </thead>\n  <tbody>\n    <tr>\n      <th>0</th>\n      <td>M1A</td>\n      <td>Not assigned</td>\n      <td>Not assigned</td>\n    </tr>\n    <tr>\n      <th>1</th>\n      <td>M2A</td>\n      <td>Not assigned</td>\n      <td>Not assigned</td>\n    </tr>\n    <tr>\n      <th>2</th>\n      <td>M3A</td>\n      <td>North York</td>\n      <td>Parkwoods</td>\n    </tr>\n    <tr>\n      <th>3</th>\n      <td>M4A</td>\n      <td>North York</td>\n      <td>Victoria Village</td>\n    </tr>\n    <tr>\n      <th>4</th>\n      <td>M5A</td>\n      <td>Downtown Toronto</td>\n      <td>Regent Park, Harbourfront</td>\n    </tr>\n  </tbody>\n</table>\n</div>",
                        "text/plain": "  Postal_Code            Borough               Neighbourhood\n0        M1A\n      Not assigned\n               Not assigned\n\n1        M2A\n      Not assigned\n               Not assigned\n\n2        M3A\n        North York\n                  Parkwoods\n\n3        M4A\n        North York\n           Victoria Village\n\n4        M5A\n  Downtown Toronto\n  Regent Park, Harbourfront"
                    },
                    "execution_count": 3,
                    "metadata": {},
                    "output_type": "execute_result"
                }
            ],
            "source": "df = pd.DataFrame({'Postal_Code':A,'Borough':B,'Neighbourhood':C})\ndf.head()"
        },
        {
            "cell_type": "markdown",
            "metadata": {},
            "source": "#### Getting rid of rows with Borough as \"Not assigned\""
        },
        {
            "cell_type": "code",
            "execution_count": 4,
            "metadata": {
                "scrolled": true
            },
            "outputs": [
                {
                    "data": {
                        "text/html": "<div>\n<style scoped>\n    .dataframe tbody tr th:only-of-type {\n        vertical-align: middle;\n    }\n\n    .dataframe tbody tr th {\n        vertical-align: top;\n    }\n\n    .dataframe thead th {\n        text-align: right;\n    }\n</style>\n<table border=\"1\" class=\"dataframe\">\n  <thead>\n    <tr style=\"text-align: right;\">\n      <th></th>\n      <th>Postal_Code</th>\n      <th>Borough</th>\n      <th>Neighbourhood</th>\n    </tr>\n  </thead>\n  <tbody>\n    <tr>\n      <th>2</th>\n      <td>M3A</td>\n      <td>NorthYork</td>\n      <td>Parkwoods</td>\n    </tr>\n    <tr>\n      <th>3</th>\n      <td>M4A</td>\n      <td>NorthYork</td>\n      <td>VictoriaVillage</td>\n    </tr>\n    <tr>\n      <th>4</th>\n      <td>M5A</td>\n      <td>DowntownToronto</td>\n      <td>RegentPark,Harbourfront</td>\n    </tr>\n    <tr>\n      <th>5</th>\n      <td>M6A</td>\n      <td>NorthYork</td>\n      <td>LawrenceManor,LawrenceHeights</td>\n    </tr>\n    <tr>\n      <th>6</th>\n      <td>M7A</td>\n      <td>DowntownToronto</td>\n      <td>Queen'sPark,OntarioProvincialGovernment</td>\n    </tr>\n    <tr>\n      <th>8</th>\n      <td>M9A</td>\n      <td>Etobicoke</td>\n      <td>IslingtonAvenue,HumberValleyVillage</td>\n    </tr>\n    <tr>\n      <th>9</th>\n      <td>M1B</td>\n      <td>Scarborough</td>\n      <td>Malvern,Rouge</td>\n    </tr>\n    <tr>\n      <th>11</th>\n      <td>M3B</td>\n      <td>NorthYork</td>\n      <td>DonMills</td>\n    </tr>\n    <tr>\n      <th>12</th>\n      <td>M4B</td>\n      <td>EastYork</td>\n      <td>ParkviewHill,WoodbineGardens</td>\n    </tr>\n    <tr>\n      <th>13</th>\n      <td>M5B</td>\n      <td>DowntownToronto</td>\n      <td>GardenDistrict,Ryerson</td>\n    </tr>\n  </tbody>\n</table>\n</div>",
                        "text/plain": "   Postal_Code          Borough                            Neighbourhood\n2          M3A        NorthYork                                Parkwoods\n3          M4A        NorthYork                          VictoriaVillage\n4          M5A  DowntownToronto                  RegentPark,Harbourfront\n5          M6A        NorthYork            LawrenceManor,LawrenceHeights\n6          M7A  DowntownToronto  Queen'sPark,OntarioProvincialGovernment\n8          M9A        Etobicoke      IslingtonAvenue,HumberValleyVillage\n9          M1B      Scarborough                            Malvern,Rouge\n11         M3B        NorthYork                                 DonMills\n12         M4B         EastYork             ParkviewHill,WoodbineGardens\n13         M5B  DowntownToronto                   GardenDistrict,Ryerson"
                    },
                    "execution_count": 4,
                    "metadata": {},
                    "output_type": "execute_result"
                }
            ],
            "source": "df.drop(df.loc[df[\"Borough\" ] == \"Not assigned\\n\"].index, inplace=True)\ndf.replace(r'\\s+|\\\\n', \"\",regex=True, inplace = True)\ndf.head(10)"
        },
        {
            "cell_type": "markdown",
            "metadata": {},
            "source": "##### If a cell has a borough but a Not assigned neighborhood, then the neighborhood will be the same as the borough"
        },
        {
            "cell_type": "code",
            "execution_count": 5,
            "metadata": {},
            "outputs": [],
            "source": "df.loc[df['Neighbourhood'] =='Notassigned' , 'Neighbourhood'] = df['Borough']"
        },
        {
            "cell_type": "code",
            "execution_count": 6,
            "metadata": {},
            "outputs": [
                {
                    "data": {
                        "text/html": "<div>\n<style scoped>\n    .dataframe tbody tr th:only-of-type {\n        vertical-align: middle;\n    }\n\n    .dataframe tbody tr th {\n        vertical-align: top;\n    }\n\n    .dataframe thead th {\n        text-align: right;\n    }\n</style>\n<table border=\"1\" class=\"dataframe\">\n  <thead>\n    <tr style=\"text-align: right;\">\n      <th></th>\n      <th>Postal_Code</th>\n      <th>Borough</th>\n      <th>Neighbourhood</th>\n    </tr>\n  </thead>\n  <tbody>\n    <tr>\n      <th>0</th>\n      <td>M5G</td>\n      <td>DowntownToronto</td>\n      <td>CentralBayStreet</td>\n    </tr>\n    <tr>\n      <th>1</th>\n      <td>M2H</td>\n      <td>NorthYork</td>\n      <td>HillcrestVillage</td>\n    </tr>\n    <tr>\n      <th>2</th>\n      <td>M4B</td>\n      <td>EastYork</td>\n      <td>ParkviewHill,WoodbineGardens</td>\n    </tr>\n    <tr>\n      <th>3</th>\n      <td>M1J</td>\n      <td>Scarborough</td>\n      <td>ScarboroughVillage</td>\n    </tr>\n    <tr>\n      <th>4</th>\n      <td>M4G</td>\n      <td>EastYork</td>\n      <td>Leaside</td>\n    </tr>\n    <tr>\n      <th>5</th>\n      <td>M4M</td>\n      <td>EastToronto</td>\n      <td>StudioDistrict</td>\n    </tr>\n    <tr>\n      <th>6</th>\n      <td>M1R</td>\n      <td>Scarborough</td>\n      <td>Wexford,Maryvale</td>\n    </tr>\n    <tr>\n      <th>7</th>\n      <td>M9V</td>\n      <td>Etobicoke</td>\n      <td>SouthSteeles,Silverstone,Humbergate,Jamestown,...</td>\n    </tr>\n    <tr>\n      <th>8</th>\n      <td>M9L</td>\n      <td>NorthYork</td>\n      <td>HumberSummit</td>\n    </tr>\n    <tr>\n      <th>9</th>\n      <td>M5V</td>\n      <td>DowntownToronto</td>\n      <td>CNTower,KingandSpadina,RailwayLands,Harbourfro...</td>\n    </tr>\n    <tr>\n      <th>10</th>\n      <td>M1B</td>\n      <td>Scarborough</td>\n      <td>Malvern,Rouge</td>\n    </tr>\n    <tr>\n      <th>11</th>\n      <td>M5A</td>\n      <td>DowntownToronto</td>\n      <td>RegentPark,Harbourfront</td>\n    </tr>\n  </tbody>\n</table>\n</div>",
                        "text/plain": "   Postal_Code          Borough  \\\n0          M5G  DowntownToronto   \n1          M2H        NorthYork   \n2          M4B         EastYork   \n3          M1J      Scarborough   \n4          M4G         EastYork   \n5          M4M      EastToronto   \n6          M1R      Scarborough   \n7          M9V        Etobicoke   \n8          M9L        NorthYork   \n9          M5V  DowntownToronto   \n10         M1B      Scarborough   \n11         M5A  DowntownToronto   \n\n                                        Neighbourhood  \n0                                    CentralBayStreet  \n1                                    HillcrestVillage  \n2                        ParkviewHill,WoodbineGardens  \n3                                  ScarboroughVillage  \n4                                             Leaside  \n5                                      StudioDistrict  \n6                                    Wexford,Maryvale  \n7   SouthSteeles,Silverstone,Humbergate,Jamestown,...  \n8                                        HumberSummit  \n9   CNTower,KingandSpadina,RailwayLands,Harbourfro...  \n10                                      Malvern,Rouge  \n11                            RegentPark,Harbourfront  "
                    },
                    "execution_count": 6,
                    "metadata": {},
                    "output_type": "execute_result"
                }
            ],
            "source": "column_names = [\"Postal_Code\", \"Borough\", \"Neighbourhood\"]\ntest_df = pd.DataFrame(columns=column_names)\n\ntest_list = [\"M5G\", \"M2H\", \"M4B\", \"M1J\", \"M4G\", \"M4M\", \"M1R\", \"M9V\", \"M9L\", \"M5V\", \"M1B\", \"M5A\"]\n\nfor postcode in test_list:\n    test_df = test_df.append(df[df[\"Postal_Code\"]==postcode], ignore_index=True)\n    \ntest_df"
        },
        {
            "cell_type": "markdown",
            "metadata": {},
            "source": "##### Applying Groupby"
        },
        {
            "cell_type": "code",
            "execution_count": 8,
            "metadata": {},
            "outputs": [
                {
                    "data": {
                        "text/html": "<div>\n<style scoped>\n    .dataframe tbody tr th:only-of-type {\n        vertical-align: middle;\n    }\n\n    .dataframe tbody tr th {\n        vertical-align: top;\n    }\n\n    .dataframe thead th {\n        text-align: right;\n    }\n</style>\n<table border=\"1\" class=\"dataframe\">\n  <thead>\n    <tr style=\"text-align: right;\">\n      <th></th>\n      <th>Postal_Code</th>\n      <th>Borough</th>\n      <th>Neighbourhood</th>\n    </tr>\n  </thead>\n  <tbody>\n    <tr>\n      <th>0</th>\n      <td>M3A</td>\n      <td>NorthYork</td>\n      <td>Parkwoods</td>\n    </tr>\n    <tr>\n      <th>1</th>\n      <td>M4A</td>\n      <td>NorthYork</td>\n      <td>VictoriaVillage</td>\n    </tr>\n    <tr>\n      <th>2</th>\n      <td>M5A</td>\n      <td>DowntownToronto</td>\n      <td>RegentPark,Harbourfront</td>\n    </tr>\n    <tr>\n      <th>3</th>\n      <td>M6A</td>\n      <td>NorthYork</td>\n      <td>LawrenceManor,LawrenceHeights</td>\n    </tr>\n    <tr>\n      <th>4</th>\n      <td>M7A</td>\n      <td>DowntownToronto</td>\n      <td>Queen'sPark,OntarioProvincialGovernment</td>\n    </tr>\n    <tr>\n      <th>5</th>\n      <td>M9A</td>\n      <td>Etobicoke</td>\n      <td>IslingtonAvenue,HumberValleyVillage</td>\n    </tr>\n    <tr>\n      <th>6</th>\n      <td>M1B</td>\n      <td>Scarborough</td>\n      <td>Malvern,Rouge</td>\n    </tr>\n    <tr>\n      <th>7</th>\n      <td>M3B</td>\n      <td>NorthYork</td>\n      <td>DonMills</td>\n    </tr>\n    <tr>\n      <th>8</th>\n      <td>M4B</td>\n      <td>EastYork</td>\n      <td>ParkviewHill,WoodbineGardens</td>\n    </tr>\n    <tr>\n      <th>9</th>\n      <td>M5B</td>\n      <td>DowntownToronto</td>\n      <td>GardenDistrict,Ryerson</td>\n    </tr>\n  </tbody>\n</table>\n</div>",
                        "text/plain": "  Postal_Code          Borough                            Neighbourhood\n0         M3A        NorthYork                                Parkwoods\n1         M4A        NorthYork                          VictoriaVillage\n2         M5A  DowntownToronto                  RegentPark,Harbourfront\n3         M6A        NorthYork            LawrenceManor,LawrenceHeights\n4         M7A  DowntownToronto  Queen'sPark,OntarioProvincialGovernment\n5         M9A        Etobicoke      IslingtonAvenue,HumberValleyVillage\n6         M1B      Scarborough                            Malvern,Rouge\n7         M3B        NorthYork                                 DonMills\n8         M4B         EastYork             ParkviewHill,WoodbineGardens\n9         M5B  DowntownToronto                   GardenDistrict,Ryerson"
                    },
                    "execution_count": 8,
                    "metadata": {},
                    "output_type": "execute_result"
                }
            ],
            "source": "result = df.groupby(['Postal_Code','Borough'], sort=False).agg( ', '.join)\ndf_final = result.reset_index()\ndf_final.head(10)"
        },
        {
            "cell_type": "markdown",
            "metadata": {},
            "source": "## Downloading Geospatial_data of Toronto"
        },
        {
            "cell_type": "code",
            "execution_count": 11,
            "metadata": {},
            "outputs": [
                {
                    "data": {
                        "text/html": "<div>\n<style scoped>\n    .dataframe tbody tr th:only-of-type {\n        vertical-align: middle;\n    }\n\n    .dataframe tbody tr th {\n        vertical-align: top;\n    }\n\n    .dataframe thead th {\n        text-align: right;\n    }\n</style>\n<table border=\"1\" class=\"dataframe\">\n  <thead>\n    <tr style=\"text-align: right;\">\n      <th></th>\n      <th>Postal_Code</th>\n      <th>Latitude</th>\n      <th>Longitude</th>\n    </tr>\n  </thead>\n  <tbody>\n    <tr>\n      <th>0</th>\n      <td>M1B</td>\n      <td>43.806686</td>\n      <td>-79.194353</td>\n    </tr>\n    <tr>\n      <th>1</th>\n      <td>M1C</td>\n      <td>43.784535</td>\n      <td>-79.160497</td>\n    </tr>\n    <tr>\n      <th>2</th>\n      <td>M1E</td>\n      <td>43.763573</td>\n      <td>-79.188711</td>\n    </tr>\n    <tr>\n      <th>3</th>\n      <td>M1G</td>\n      <td>43.770992</td>\n      <td>-79.216917</td>\n    </tr>\n    <tr>\n      <th>4</th>\n      <td>M1H</td>\n      <td>43.773136</td>\n      <td>-79.239476</td>\n    </tr>\n  </tbody>\n</table>\n</div>",
                        "text/plain": "  Postal_Code   Latitude  Longitude\n0         M1B  43.806686 -79.194353\n1         M1C  43.784535 -79.160497\n2         M1E  43.763573 -79.188711\n3         M1G  43.770992 -79.216917\n4         M1H  43.773136 -79.239476"
                    },
                    "execution_count": 11,
                    "metadata": {},
                    "output_type": "execute_result"
                }
            ],
            "source": "locdf = pd.read_csv('http://cocl.us/Geospatial_data')\nlocdf.columns=['Postal_Code','Latitude','Longitude']\nlocdf.head()"
        },
        {
            "cell_type": "markdown",
            "metadata": {},
            "source": "### Adding Lat and Long columns"
        },
        {
            "cell_type": "code",
            "execution_count": 12,
            "metadata": {},
            "outputs": [
                {
                    "data": {
                        "text/html": "<div>\n<style scoped>\n    .dataframe tbody tr th:only-of-type {\n        vertical-align: middle;\n    }\n\n    .dataframe tbody tr th {\n        vertical-align: top;\n    }\n\n    .dataframe thead th {\n        text-align: right;\n    }\n</style>\n<table border=\"1\" class=\"dataframe\">\n  <thead>\n    <tr style=\"text-align: right;\">\n      <th></th>\n      <th>Postal_Code</th>\n      <th>Borough</th>\n      <th>Neighbourhood</th>\n      <th>Latitude</th>\n      <th>Longitude</th>\n    </tr>\n  </thead>\n  <tbody>\n    <tr>\n      <th>0</th>\n      <td>M3A</td>\n      <td>NorthYork</td>\n      <td>Parkwoods</td>\n      <td>43.753259</td>\n      <td>-79.329656</td>\n    </tr>\n    <tr>\n      <th>1</th>\n      <td>M4A</td>\n      <td>NorthYork</td>\n      <td>VictoriaVillage</td>\n      <td>43.725882</td>\n      <td>-79.315572</td>\n    </tr>\n    <tr>\n      <th>2</th>\n      <td>M5A</td>\n      <td>DowntownToronto</td>\n      <td>RegentPark,Harbourfront</td>\n      <td>43.654260</td>\n      <td>-79.360636</td>\n    </tr>\n    <tr>\n      <th>3</th>\n      <td>M6A</td>\n      <td>NorthYork</td>\n      <td>LawrenceManor,LawrenceHeights</td>\n      <td>43.718518</td>\n      <td>-79.464763</td>\n    </tr>\n    <tr>\n      <th>4</th>\n      <td>M7A</td>\n      <td>DowntownToronto</td>\n      <td>Queen'sPark,OntarioProvincialGovernment</td>\n      <td>43.662301</td>\n      <td>-79.389494</td>\n    </tr>\n    <tr>\n      <th>5</th>\n      <td>M9A</td>\n      <td>Etobicoke</td>\n      <td>IslingtonAvenue,HumberValleyVillage</td>\n      <td>43.667856</td>\n      <td>-79.532242</td>\n    </tr>\n    <tr>\n      <th>6</th>\n      <td>M1B</td>\n      <td>Scarborough</td>\n      <td>Malvern,Rouge</td>\n      <td>43.806686</td>\n      <td>-79.194353</td>\n    </tr>\n    <tr>\n      <th>7</th>\n      <td>M3B</td>\n      <td>NorthYork</td>\n      <td>DonMills</td>\n      <td>43.745906</td>\n      <td>-79.352188</td>\n    </tr>\n    <tr>\n      <th>8</th>\n      <td>M4B</td>\n      <td>EastYork</td>\n      <td>ParkviewHill,WoodbineGardens</td>\n      <td>43.706397</td>\n      <td>-79.309937</td>\n    </tr>\n    <tr>\n      <th>9</th>\n      <td>M5B</td>\n      <td>DowntownToronto</td>\n      <td>GardenDistrict,Ryerson</td>\n      <td>43.657162</td>\n      <td>-79.378937</td>\n    </tr>\n    <tr>\n      <th>10</th>\n      <td>M6B</td>\n      <td>NorthYork</td>\n      <td>Glencairn</td>\n      <td>43.709577</td>\n      <td>-79.445073</td>\n    </tr>\n    <tr>\n      <th>11</th>\n      <td>M9B</td>\n      <td>Etobicoke</td>\n      <td>WestDeanePark,PrincessGardens,MartinGrove,Isli...</td>\n      <td>43.650943</td>\n      <td>-79.554724</td>\n    </tr>\n    <tr>\n      <th>12</th>\n      <td>M1C</td>\n      <td>Scarborough</td>\n      <td>RougeHill,PortUnion,HighlandCreek</td>\n      <td>43.784535</td>\n      <td>-79.160497</td>\n    </tr>\n    <tr>\n      <th>13</th>\n      <td>M3C</td>\n      <td>NorthYork</td>\n      <td>DonMills</td>\n      <td>43.725900</td>\n      <td>-79.340923</td>\n    </tr>\n    <tr>\n      <th>14</th>\n      <td>M4C</td>\n      <td>EastYork</td>\n      <td>WoodbineHeights</td>\n      <td>43.695344</td>\n      <td>-79.318389</td>\n    </tr>\n    <tr>\n      <th>15</th>\n      <td>M5C</td>\n      <td>DowntownToronto</td>\n      <td>St.JamesTown</td>\n      <td>43.651494</td>\n      <td>-79.375418</td>\n    </tr>\n    <tr>\n      <th>16</th>\n      <td>M6C</td>\n      <td>York</td>\n      <td>Humewood-Cedarvale</td>\n      <td>43.693781</td>\n      <td>-79.428191</td>\n    </tr>\n    <tr>\n      <th>17</th>\n      <td>M9C</td>\n      <td>Etobicoke</td>\n      <td>Eringate,BloordaleGardens,OldBurnhamthorpe,Mar...</td>\n      <td>43.643515</td>\n      <td>-79.577201</td>\n    </tr>\n    <tr>\n      <th>18</th>\n      <td>M1E</td>\n      <td>Scarborough</td>\n      <td>Guildwood,Morningside,WestHill</td>\n      <td>43.763573</td>\n      <td>-79.188711</td>\n    </tr>\n    <tr>\n      <th>19</th>\n      <td>M4E</td>\n      <td>EastToronto</td>\n      <td>TheBeaches</td>\n      <td>43.676357</td>\n      <td>-79.293031</td>\n    </tr>\n    <tr>\n      <th>20</th>\n      <td>M5E</td>\n      <td>DowntownToronto</td>\n      <td>BerczyPark</td>\n      <td>43.644771</td>\n      <td>-79.373306</td>\n    </tr>\n    <tr>\n      <th>21</th>\n      <td>M6E</td>\n      <td>York</td>\n      <td>Caledonia-Fairbanks</td>\n      <td>43.689026</td>\n      <td>-79.453512</td>\n    </tr>\n    <tr>\n      <th>22</th>\n      <td>M1G</td>\n      <td>Scarborough</td>\n      <td>Woburn</td>\n      <td>43.770992</td>\n      <td>-79.216917</td>\n    </tr>\n    <tr>\n      <th>23</th>\n      <td>M4G</td>\n      <td>EastYork</td>\n      <td>Leaside</td>\n      <td>43.709060</td>\n      <td>-79.363452</td>\n    </tr>\n    <tr>\n      <th>24</th>\n      <td>M5G</td>\n      <td>DowntownToronto</td>\n      <td>CentralBayStreet</td>\n      <td>43.657952</td>\n      <td>-79.387383</td>\n    </tr>\n    <tr>\n      <th>25</th>\n      <td>M6G</td>\n      <td>DowntownToronto</td>\n      <td>Christie</td>\n      <td>43.669542</td>\n      <td>-79.422564</td>\n    </tr>\n    <tr>\n      <th>26</th>\n      <td>M1H</td>\n      <td>Scarborough</td>\n      <td>Cedarbrae</td>\n      <td>43.773136</td>\n      <td>-79.239476</td>\n    </tr>\n    <tr>\n      <th>27</th>\n      <td>M2H</td>\n      <td>NorthYork</td>\n      <td>HillcrestVillage</td>\n      <td>43.803762</td>\n      <td>-79.363452</td>\n    </tr>\n    <tr>\n      <th>28</th>\n      <td>M3H</td>\n      <td>NorthYork</td>\n      <td>BathurstManor,WilsonHeights,DownsviewNorth</td>\n      <td>43.754328</td>\n      <td>-79.442259</td>\n    </tr>\n    <tr>\n      <th>29</th>\n      <td>M4H</td>\n      <td>EastYork</td>\n      <td>ThorncliffePark</td>\n      <td>43.705369</td>\n      <td>-79.349372</td>\n    </tr>\n    <tr>\n      <th>...</th>\n      <td>...</td>\n      <td>...</td>\n      <td>...</td>\n      <td>...</td>\n      <td>...</td>\n    </tr>\n    <tr>\n      <th>73</th>\n      <td>M4R</td>\n      <td>CentralToronto</td>\n      <td>NorthTorontoWest,LawrencePark</td>\n      <td>43.715383</td>\n      <td>-79.405678</td>\n    </tr>\n    <tr>\n      <th>74</th>\n      <td>M5R</td>\n      <td>CentralToronto</td>\n      <td>TheAnnex,NorthMidtown,Yorkville</td>\n      <td>43.672710</td>\n      <td>-79.405678</td>\n    </tr>\n    <tr>\n      <th>75</th>\n      <td>M6R</td>\n      <td>WestToronto</td>\n      <td>Parkdale,Roncesvalles</td>\n      <td>43.648960</td>\n      <td>-79.456325</td>\n    </tr>\n    <tr>\n      <th>76</th>\n      <td>M7R</td>\n      <td>Mississauga</td>\n      <td>CanadaPostGatewayProcessingCentre</td>\n      <td>43.636966</td>\n      <td>-79.615819</td>\n    </tr>\n    <tr>\n      <th>77</th>\n      <td>M9R</td>\n      <td>Etobicoke</td>\n      <td>KingsviewVillage,St.Phillips,MartinGroveGarden...</td>\n      <td>43.688905</td>\n      <td>-79.554724</td>\n    </tr>\n    <tr>\n      <th>78</th>\n      <td>M1S</td>\n      <td>Scarborough</td>\n      <td>Agincourt</td>\n      <td>43.794200</td>\n      <td>-79.262029</td>\n    </tr>\n    <tr>\n      <th>79</th>\n      <td>M4S</td>\n      <td>CentralToronto</td>\n      <td>Davisville</td>\n      <td>43.704324</td>\n      <td>-79.388790</td>\n    </tr>\n    <tr>\n      <th>80</th>\n      <td>M5S</td>\n      <td>DowntownToronto</td>\n      <td>UniversityofToronto,Harbord</td>\n      <td>43.662696</td>\n      <td>-79.400049</td>\n    </tr>\n    <tr>\n      <th>81</th>\n      <td>M6S</td>\n      <td>WestToronto</td>\n      <td>Runnymede,Swansea</td>\n      <td>43.651571</td>\n      <td>-79.484450</td>\n    </tr>\n    <tr>\n      <th>82</th>\n      <td>M1T</td>\n      <td>Scarborough</td>\n      <td>ClarksCorners,TamO'Shanter,Sullivan</td>\n      <td>43.781638</td>\n      <td>-79.304302</td>\n    </tr>\n    <tr>\n      <th>83</th>\n      <td>M4T</td>\n      <td>CentralToronto</td>\n      <td>MoorePark,SummerhillEast</td>\n      <td>43.689574</td>\n      <td>-79.383160</td>\n    </tr>\n    <tr>\n      <th>84</th>\n      <td>M5T</td>\n      <td>DowntownToronto</td>\n      <td>KensingtonMarket,Chinatown,GrangePark</td>\n      <td>43.653206</td>\n      <td>-79.400049</td>\n    </tr>\n    <tr>\n      <th>85</th>\n      <td>M1V</td>\n      <td>Scarborough</td>\n      <td>Milliken,AgincourtNorth,SteelesEast,L'Amoreaux...</td>\n      <td>43.815252</td>\n      <td>-79.284577</td>\n    </tr>\n    <tr>\n      <th>86</th>\n      <td>M4V</td>\n      <td>CentralToronto</td>\n      <td>SummerhillWest,Rathnelly,SouthHill,ForestHillS...</td>\n      <td>43.686412</td>\n      <td>-79.400049</td>\n    </tr>\n    <tr>\n      <th>87</th>\n      <td>M5V</td>\n      <td>DowntownToronto</td>\n      <td>CNTower,KingandSpadina,RailwayLands,Harbourfro...</td>\n      <td>43.628947</td>\n      <td>-79.394420</td>\n    </tr>\n    <tr>\n      <th>88</th>\n      <td>M8V</td>\n      <td>Etobicoke</td>\n      <td>NewToronto,MimicoSouth,HumberBayShores</td>\n      <td>43.605647</td>\n      <td>-79.501321</td>\n    </tr>\n    <tr>\n      <th>89</th>\n      <td>M9V</td>\n      <td>Etobicoke</td>\n      <td>SouthSteeles,Silverstone,Humbergate,Jamestown,...</td>\n      <td>43.739416</td>\n      <td>-79.588437</td>\n    </tr>\n    <tr>\n      <th>90</th>\n      <td>M1W</td>\n      <td>Scarborough</td>\n      <td>SteelesWest,L'AmoreauxWest</td>\n      <td>43.799525</td>\n      <td>-79.318389</td>\n    </tr>\n    <tr>\n      <th>91</th>\n      <td>M4W</td>\n      <td>DowntownToronto</td>\n      <td>Rosedale</td>\n      <td>43.679563</td>\n      <td>-79.377529</td>\n    </tr>\n    <tr>\n      <th>92</th>\n      <td>M5W</td>\n      <td>DowntownToronto</td>\n      <td>StnAPOBoxes</td>\n      <td>43.646435</td>\n      <td>-79.374846</td>\n    </tr>\n    <tr>\n      <th>93</th>\n      <td>M8W</td>\n      <td>Etobicoke</td>\n      <td>Alderwood,LongBranch</td>\n      <td>43.602414</td>\n      <td>-79.543484</td>\n    </tr>\n    <tr>\n      <th>94</th>\n      <td>M9W</td>\n      <td>Etobicoke</td>\n      <td>Northwest,WestHumber-Clairville</td>\n      <td>43.706748</td>\n      <td>-79.594054</td>\n    </tr>\n    <tr>\n      <th>95</th>\n      <td>M1X</td>\n      <td>Scarborough</td>\n      <td>UpperRouge</td>\n      <td>43.836125</td>\n      <td>-79.205636</td>\n    </tr>\n    <tr>\n      <th>96</th>\n      <td>M4X</td>\n      <td>DowntownToronto</td>\n      <td>St.JamesTown,Cabbagetown</td>\n      <td>43.667967</td>\n      <td>-79.367675</td>\n    </tr>\n    <tr>\n      <th>97</th>\n      <td>M5X</td>\n      <td>DowntownToronto</td>\n      <td>FirstCanadianPlace,Undergroundcity</td>\n      <td>43.648429</td>\n      <td>-79.382280</td>\n    </tr>\n    <tr>\n      <th>98</th>\n      <td>M8X</td>\n      <td>Etobicoke</td>\n      <td>TheKingsway,MontgomeryRoad,OldMillNorth</td>\n      <td>43.653654</td>\n      <td>-79.506944</td>\n    </tr>\n    <tr>\n      <th>99</th>\n      <td>M4Y</td>\n      <td>DowntownToronto</td>\n      <td>ChurchandWellesley</td>\n      <td>43.665860</td>\n      <td>-79.383160</td>\n    </tr>\n    <tr>\n      <th>100</th>\n      <td>M7Y</td>\n      <td>EastToronto</td>\n      <td>BusinessreplymailProcessingCentre,SouthCentral...</td>\n      <td>43.662744</td>\n      <td>-79.321558</td>\n    </tr>\n    <tr>\n      <th>101</th>\n      <td>M8Y</td>\n      <td>Etobicoke</td>\n      <td>OldMillSouth,King'sMillPark,Sunnylea,HumberBay...</td>\n      <td>43.636258</td>\n      <td>-79.498509</td>\n    </tr>\n    <tr>\n      <th>102</th>\n      <td>M8Z</td>\n      <td>Etobicoke</td>\n      <td>MimicoNW,TheQueenswayWest,SouthofBloor,Kingswa...</td>\n      <td>43.628841</td>\n      <td>-79.520999</td>\n    </tr>\n  </tbody>\n</table>\n<p>103 rows \u00d7 5 columns</p>\n</div>",
                        "text/plain": "    Postal_Code          Borough  \\\n0           M3A        NorthYork   \n1           M4A        NorthYork   \n2           M5A  DowntownToronto   \n3           M6A        NorthYork   \n4           M7A  DowntownToronto   \n5           M9A        Etobicoke   \n6           M1B      Scarborough   \n7           M3B        NorthYork   \n8           M4B         EastYork   \n9           M5B  DowntownToronto   \n10          M6B        NorthYork   \n11          M9B        Etobicoke   \n12          M1C      Scarborough   \n13          M3C        NorthYork   \n14          M4C         EastYork   \n15          M5C  DowntownToronto   \n16          M6C             York   \n17          M9C        Etobicoke   \n18          M1E      Scarborough   \n19          M4E      EastToronto   \n20          M5E  DowntownToronto   \n21          M6E             York   \n22          M1G      Scarborough   \n23          M4G         EastYork   \n24          M5G  DowntownToronto   \n25          M6G  DowntownToronto   \n26          M1H      Scarborough   \n27          M2H        NorthYork   \n28          M3H        NorthYork   \n29          M4H         EastYork   \n..          ...              ...   \n73          M4R   CentralToronto   \n74          M5R   CentralToronto   \n75          M6R      WestToronto   \n76          M7R      Mississauga   \n77          M9R        Etobicoke   \n78          M1S      Scarborough   \n79          M4S   CentralToronto   \n80          M5S  DowntownToronto   \n81          M6S      WestToronto   \n82          M1T      Scarborough   \n83          M4T   CentralToronto   \n84          M5T  DowntownToronto   \n85          M1V      Scarborough   \n86          M4V   CentralToronto   \n87          M5V  DowntownToronto   \n88          M8V        Etobicoke   \n89          M9V        Etobicoke   \n90          M1W      Scarborough   \n91          M4W  DowntownToronto   \n92          M5W  DowntownToronto   \n93          M8W        Etobicoke   \n94          M9W        Etobicoke   \n95          M1X      Scarborough   \n96          M4X  DowntownToronto   \n97          M5X  DowntownToronto   \n98          M8X        Etobicoke   \n99          M4Y  DowntownToronto   \n100         M7Y      EastToronto   \n101         M8Y        Etobicoke   \n102         M8Z        Etobicoke   \n\n                                         Neighbourhood   Latitude  Longitude  \n0                                            Parkwoods  43.753259 -79.329656  \n1                                      VictoriaVillage  43.725882 -79.315572  \n2                              RegentPark,Harbourfront  43.654260 -79.360636  \n3                        LawrenceManor,LawrenceHeights  43.718518 -79.464763  \n4              Queen'sPark,OntarioProvincialGovernment  43.662301 -79.389494  \n5                  IslingtonAvenue,HumberValleyVillage  43.667856 -79.532242  \n6                                        Malvern,Rouge  43.806686 -79.194353  \n7                                             DonMills  43.745906 -79.352188  \n8                         ParkviewHill,WoodbineGardens  43.706397 -79.309937  \n9                               GardenDistrict,Ryerson  43.657162 -79.378937  \n10                                           Glencairn  43.709577 -79.445073  \n11   WestDeanePark,PrincessGardens,MartinGrove,Isli...  43.650943 -79.554724  \n12                   RougeHill,PortUnion,HighlandCreek  43.784535 -79.160497  \n13                                            DonMills  43.725900 -79.340923  \n14                                     WoodbineHeights  43.695344 -79.318389  \n15                                        St.JamesTown  43.651494 -79.375418  \n16                                  Humewood-Cedarvale  43.693781 -79.428191  \n17   Eringate,BloordaleGardens,OldBurnhamthorpe,Mar...  43.643515 -79.577201  \n18                      Guildwood,Morningside,WestHill  43.763573 -79.188711  \n19                                          TheBeaches  43.676357 -79.293031  \n20                                          BerczyPark  43.644771 -79.373306  \n21                                 Caledonia-Fairbanks  43.689026 -79.453512  \n22                                              Woburn  43.770992 -79.216917  \n23                                             Leaside  43.709060 -79.363452  \n24                                    CentralBayStreet  43.657952 -79.387383  \n25                                            Christie  43.669542 -79.422564  \n26                                           Cedarbrae  43.773136 -79.239476  \n27                                    HillcrestVillage  43.803762 -79.363452  \n28          BathurstManor,WilsonHeights,DownsviewNorth  43.754328 -79.442259  \n29                                     ThorncliffePark  43.705369 -79.349372  \n..                                                 ...        ...        ...  \n73                       NorthTorontoWest,LawrencePark  43.715383 -79.405678  \n74                     TheAnnex,NorthMidtown,Yorkville  43.672710 -79.405678  \n75                               Parkdale,Roncesvalles  43.648960 -79.456325  \n76                   CanadaPostGatewayProcessingCentre  43.636966 -79.615819  \n77   KingsviewVillage,St.Phillips,MartinGroveGarden...  43.688905 -79.554724  \n78                                           Agincourt  43.794200 -79.262029  \n79                                          Davisville  43.704324 -79.388790  \n80                         UniversityofToronto,Harbord  43.662696 -79.400049  \n81                                   Runnymede,Swansea  43.651571 -79.484450  \n82                 ClarksCorners,TamO'Shanter,Sullivan  43.781638 -79.304302  \n83                            MoorePark,SummerhillEast  43.689574 -79.383160  \n84               KensingtonMarket,Chinatown,GrangePark  43.653206 -79.400049  \n85   Milliken,AgincourtNorth,SteelesEast,L'Amoreaux...  43.815252 -79.284577  \n86   SummerhillWest,Rathnelly,SouthHill,ForestHillS...  43.686412 -79.400049  \n87   CNTower,KingandSpadina,RailwayLands,Harbourfro...  43.628947 -79.394420  \n88              NewToronto,MimicoSouth,HumberBayShores  43.605647 -79.501321  \n89   SouthSteeles,Silverstone,Humbergate,Jamestown,...  43.739416 -79.588437  \n90                          SteelesWest,L'AmoreauxWest  43.799525 -79.318389  \n91                                            Rosedale  43.679563 -79.377529  \n92                                         StnAPOBoxes  43.646435 -79.374846  \n93                                Alderwood,LongBranch  43.602414 -79.543484  \n94                     Northwest,WestHumber-Clairville  43.706748 -79.594054  \n95                                          UpperRouge  43.836125 -79.205636  \n96                            St.JamesTown,Cabbagetown  43.667967 -79.367675  \n97                  FirstCanadianPlace,Undergroundcity  43.648429 -79.382280  \n98             TheKingsway,MontgomeryRoad,OldMillNorth  43.653654 -79.506944  \n99                                  ChurchandWellesley  43.665860 -79.383160  \n100  BusinessreplymailProcessingCentre,SouthCentral...  43.662744 -79.321558  \n101  OldMillSouth,King'sMillPark,Sunnylea,HumberBay...  43.636258 -79.498509  \n102  MimicoNW,TheQueenswayWest,SouthofBloor,Kingswa...  43.628841 -79.520999  \n\n[103 rows x 5 columns]"
                    },
                    "execution_count": 12,
                    "metadata": {},
                    "output_type": "execute_result"
                }
            ],
            "source": "new_final = pd.merge(df_final, locdf[['Postal_Code','Latitude', 'Longitude']], on = 'Postal_Code')\nnew_final"
        },
        {
            "cell_type": "code",
            "execution_count": null,
            "metadata": {},
            "outputs": [],
            "source": ""
        }
    ],
    "metadata": {
        "kernelspec": {
            "display_name": "Python 3.6",
            "language": "python",
            "name": "python3"
        },
        "language_info": {
            "codemirror_mode": {
                "name": "ipython",
                "version": 3
            },
            "file_extension": ".py",
            "mimetype": "text/x-python",
            "name": "python",
            "nbconvert_exporter": "python",
            "pygments_lexer": "ipython3",
            "version": "3.6.9"
        }
    },
    "nbformat": 4,
    "nbformat_minor": 1
}